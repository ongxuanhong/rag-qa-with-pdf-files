{
 "cells": [
  {
   "cell_type": "code",
   "execution_count": 15,
   "metadata": {},
   "outputs": [],
   "source": [
    "import chainlit as cl\n",
    "import torch\n",
    "\n",
    "from chainlit.types import AskFileResponse\n",
    "\n",
    "from transformers import BitsAndBytesConfig\n",
    "from transformers import AutoTokenizer, AutoModelForCausalLM, pipeline\n",
    "from langchain_huggingface import HuggingFaceEmbeddings\n",
    "from langchain_huggingface.llms import HuggingFacePipeline\n",
    "\n",
    "from langchain_community.chat_message_histories import ChatMessageHistory\n",
    "from langchain_community.document_loaders import PyPDFLoader, TextLoader\n",
    "from langchain.chains import ConversationalRetrievalChain\n",
    "from langchain.memory import ConversationBufferMemory\n",
    "from langchain_chroma import Chroma\n",
    "from langchain_text_splitters import RecursiveCharacterTextSplitter\n",
    "from langchain_core.runnables import RunnablePassthrough\n",
    "from langchain_core.output_parsers import StrOutputParser\n",
    "from langchain import hub\n",
    "from pprint import pprint"
   ]
  },
  {
   "cell_type": "code",
   "execution_count": 2,
   "metadata": {},
   "outputs": [
    {
     "name": "stdout",
     "output_type": "stream",
     "text": [
      "2024-09-10 14:49:59 - Use pytorch device_name: mps\n",
      "2024-09-10 14:49:59 - Load pretrained SentenceTransformer: sentence-transformers/all-mpnet-base-v2\n"
     ]
    },
    {
     "name": "stderr",
     "output_type": "stream",
     "text": [
      "/opt/homebrew/anaconda3/envs/rag-qa-with-pdf-files/lib/python3.9/site-packages/transformers/tokenization_utils_base.py:1601: FutureWarning: `clean_up_tokenization_spaces` was not set. It will be set to `True` by default. This behavior will be depracted in transformers v4.45, and will be then set to `False` by default. For more details check this issue: https://github.com/huggingface/transformers/issues/31884\n",
      "  warnings.warn(\n"
     ]
    }
   ],
   "source": [
    "# initialize text splitter and embedding\n",
    "text_splitter = RecursiveCharacterTextSplitter(chunk_size=1000, chunk_overlap=100)\n",
    "\n",
    "embedding = HuggingFaceEmbeddings()"
   ]
  },
  {
   "cell_type": "code",
   "execution_count": 3,
   "metadata": {},
   "outputs": [],
   "source": [
    "# function to load and split pdf file\n",
    "def process_file(file: AskFileResponse):\n",
    "    if file.type == \"text/plain\":\n",
    "        Loader = TextLoader\n",
    "    elif file.type == \"application/pdf\":\n",
    "        Loader = PyPDFLoader\n",
    "\n",
    "    loader = Loader(file.path)\n",
    "    documents = loader.load()\n",
    "    docs = text_splitter.split_documents(documents)\n",
    "    for i, doc in enumerate(docs):\n",
    "        doc.metadata[\"source\"] = f\"source_{i}\"\n",
    "    return docs"
   ]
  },
  {
   "cell_type": "code",
   "execution_count": 4,
   "metadata": {},
   "outputs": [],
   "source": [
    "# function to get vector database\n",
    "def get_vector_db(file: AskFileResponse):\n",
    "    docs = process_file(file)\n",
    "    cl.user_session.set(\"docs\", docs)\n",
    "    vector_db = Chroma.from_documents(documents=docs, embedding=embedding)\n",
    "    return vector_db"
   ]
  },
  {
   "cell_type": "code",
   "execution_count": null,
   "metadata": {},
   "outputs": [],
   "source": [
    "# function to get LLM model\n",
    "def get_huggingface_llm(\n",
    "    model_name: str = \"lmsys/vicuna-7b-v1.5\", max_new_token: int = 512\n",
    "):\n",
    "    nf4_config = BitsAndBytesConfig(\n",
    "        load_in_4bit=True,\n",
    "        bnb_4bit_quant_type=\"nf4\",\n",
    "        bnb_4bit_use_double_quant=True,\n",
    "        bnb_4bit_compute_dtype=torch.bfloat16,\n",
    "    )\n",
    "    model = AutoModelForCausalLM.from_pretrained(\n",
    "        model_name, quantization_config=nf4_config, low_cpu_mem_usage=True\n",
    "    )\n",
    "    tokenizer = AutoTokenizer.from_pretrained(model_name)\n",
    "\n",
    "    model_pipeline = pipeline(\n",
    "        \"text-generation\",\n",
    "        model=model,\n",
    "        tokenizer=tokenizer,\n",
    "        max_new_tokens=max_new_token,\n",
    "        pad_token_id=tokenizer.eos_token_id,\n",
    "        device_map=\"auto\",\n",
    "    )\n",
    "\n",
    "    llm = HuggingFacePipeline(\n",
    "        pipeline=model_pipeline,\n",
    "    )\n",
    "    return llm\n",
    "\n",
    "\n",
    "LLM = get_huggingface_llm()"
   ]
  },
  {
   "cell_type": "markdown",
   "metadata": {},
   "source": [
    "## Read pdf file"
   ]
  },
  {
   "cell_type": "code",
   "execution_count": 11,
   "metadata": {},
   "outputs": [
    {
     "name": "stdout",
     "output_type": "stream",
     "text": [
      "Number of documents:  7\n"
     ]
    },
    {
     "data": {
      "text/plain": [
       "Document(metadata={'source': './docs/Writing_a_scientific_article__A_step-by-step_guide_for_beginners_.pdf', 'page': 0}, page_content='Research  paper\\nWriting  a  scientiﬁc  article:  A  step-by-step  guide  for  beginners\\nF.  Ecarnot *,  M.-F.  Seronde,  R.  Chopard,  F.  Schiele,  N.  Meneveau\\nEA3920,  Department  of  Cardiology,  University  Hospital  Jean-Minjoz,  3,  Boulevard  Fleming,  25000  Besanc ¸on,  France\\n1.  Background\\nEvery  researcher  has  been  face  to  face  with  a  blank  page  at  some\\nstage  of  their  career,  wondering  where  to  start  and  what  to  write\\nﬁrst.  Describing  one’s  research  work  in  a  format  that  is\\ncomprehensible  to  others,  and  acceptable  for  publication  is  no\\neasy  task.  When  you  invest  a  lot  of  time,  energy  and  often  money  in\\nyour  research,  you  become  intimately  and  emotionally  involved.\\nNaturally,  you  are  convinced  of  the  value  of  your  research,  and  of\\nits  importance  for  the  scientiﬁc  community.  However,  the\\nsubjectivity  that  goes  hand  in  hand  with  deep  involvement  can\\nmake  it  difﬁcult  to  take  a  step  back,  and  think  clearly  about  how\\nbest  to  present  the  research  in  a  clear  and  understandable  fashion,\\nso  that  others  –  likely,  non  experts  in  your  ﬁeld  –  can  also\\nappreciate  the  interest  of  your  ﬁndings.\\nEven  today,  the  old  adage  ‘‘publish  or  perish’’  remains  valid.\\nMany  young  researchers  ﬁnd  themselves  under  pressure  to\\nproduce  scientiﬁc  publications,  in  order  to  enhance  their  career\\nprospects,  or  to  substantiate  requests  for  funding,  or  to  justify\\nprevious  funding  allocations,  or  as  a  requirement  for  university\\nqualiﬁcations  such  as  a  Masters  degree  or  doctoral  thesis.  Yet,\\noften,  young  doctors  do  not  have  much  training,  if  any,  in  the  art  of\\nwriting  a  scientiﬁc  article.  For  clinicians,  in  particular,  the  clinical\\nworkload  can  be  such  that  research  and  scientiﬁc  writing  are  seen\\nto  be  secondary  activities  that  are  not  an  immediate  priority,  and  towhich  only  small  amounts  of  time  can  be  devoted  on  an  irregular\\nbasis.  However,  the  competition  is  already  quite  ﬁerce  amongst  all\\nthe  good  quality  papers  that  are  submitted  to  journals,  and  it  is\\ntherefore  of  paramount  importance  to  get  the  basics  right,  in  order\\nfor  your  paper  to  have  a  chance  of  succeeding.  Don’t  you  think  that\\nyour  work  deserves  to  be  judged  on  its  scientiﬁc  merit,  rather  than\\nbe  rejected  for  poor  quality  writing  and  messy  and  confusing\\npresentation  of  the  data?\\nWith  this  in  mind,  we  present  here  a  step-by-step  guide  to\\nwriting  a  scientiﬁc  article,  which  is  not  speciﬁc  to  the  discipline  of\\ngeriatrics/gerontology,  but  rather,  may  be  applied  to  the  vast\\nmajority  of  medical  disciplines.  We  will  start  by  outlining  the  main\\nsections  of  the  article,  and  will  then  describe  in  greater  detail  the\\nmain  elements  that  should  feature  in  each  section.  Finally,  we  will\\nalso  give  a  few  pointers  for  the  abstract  and  the  title  of  the  article.\\nThis  guide  aims  to  help  young  researchers  with  little  experience  of\\nwriting  to  create  a  good  quality  ﬁrst  draft  of  their  work,  which  can\\nthen  be  circulated  to  their  co-authors  and  senior  mentors  for\\nfurther  reﬁnement,  with  the  ultimate  aim  of  achieving  publication\\nin  a  scientiﬁc  journal.  It  is  undoubtedly  not  exhaustive,  and  many\\nexcellent  resources  can  be  found  in  the  existing  literature  [1–7]\\nand  online  [8].\\n2.  Getting  started:  things  to  do  before  you  write  a  word\\nA  certain  amount  of  preparatory  work  needs  to  be  done  before\\nyou  ever  write  a  word  of  your  article.  This  background  work  should\\ngenerally  already  have  been  accomplished  by  the  time  you  are  at\\nthe  writing  stage,  because  it  also  serves  as  background  to  the\\nresearch  project  you  are  writing  about.  All  the  time  you  invest  in\\npreparing  the  protocol  for  your  project  is  an  advance  on  the  writingEuropean  Geriatric  Medicine  xxx  (2015)  xxx–xxx\\n*Corresponding  author.  Tel.:  +33  381  668  539;  fax:  +33  381  668  582.\\nE-mail  addresses:  ﬁona.ecarnot@univ-fcomte.fr  (F.  Ecarnot),\\nmfseronde@chu-besancon.fr  (M.-F.  Seronde),  rchopard@chu-besancon.fr\\n(R.  Chopard),  francois.schiele@univ-fcomte.fr  (F.  Schiele),\\nnicolas.meneveau@univ-fcomte.fr  (N.  Meneveau).A  R  T  I  C  L  E  I  N  F  O\\nArticle  history:\\nReceived  22  June  2015\\nAccepted  18  August  2015\\nAvailable  online  xxx\\nKeywords:\\nScientiﬁc  publications\\nWritingResearchArticleA  B  S  T  R  A  C  T\\nMany  young  researchers  ﬁnd  it  extremely  difﬁcult  to  write  scientiﬁc  articles,  and  few  receive  speciﬁc\\ntraining  in  the  art  of  presenting  their  research  work  in  written  format.  Yet,  publication  is  often  vital  for\\ncareer  advancement,  to  obtain  funding,  to  obtain  academic  qualiﬁcations,  or  for  all  these  reasons.  We\\ndescribe  here  the  basic  steps  to  follow  in  writing  a  scientiﬁc  article.  We  outline  the  main  sections  that  an\\naverage  article  should  contain;  the  elements  that  should  appear  in  these  sections,  and  some  pointers  for\\nmaking  the  overall  result  attractive  and  acceptable  for  publication.\\n/C223  2015  Elsevier  Masson  SAS  and  European  Union  Geriatric  Medicine  Society.  All  rights  reserved.\\nG  Model\\nEURGER-671;  No.  of  Pages  7\\nPlease  cite  this  article  in  press  as:  Ecarnot  F,  et  al.  Writing  a  scientiﬁc  article:  A  step-by-step  guide  for  beginners.  Eur  Geriatr  Med  (2015),\\nhttp://dx.doi.org/10.1016/j.eurger.2015.08.005Available  online  at\\nScienceDirect\\nwww.sciencedirect.com\\nhttp://dx.doi.org/10.1016/j.eurger.2015.08.005\\n1878-7649/ /C223  2015  Elsevier  Masson  SAS  and  European  Union  Geriatric  Medicine  Society.  All  rights  reserved.')"
      ]
     },
     "execution_count": 11,
     "metadata": {},
     "output_type": "execute_result"
    }
   ],
   "source": [
    "Loader = PyPDFLoader\n",
    "FILE_PATH = (\n",
    "    \"./docs/Writing_a_scientific_article__A_step-by-step_guide_for_beginners_.pdf\"\n",
    ")\n",
    "loader = Loader(FILE_PATH)\n",
    "documents = loader.load()\n",
    "\n",
    "print(\"Number of documents: \", len(documents))\n",
    "documents[0]"
   ]
  },
  {
   "cell_type": "code",
   "execution_count": 12,
   "metadata": {},
   "outputs": [
    {
     "name": "stdout",
     "output_type": "stream",
     "text": [
      "Number of mini-documents:  59\n"
     ]
    },
    {
     "data": {
      "text/plain": [
       "Document(metadata={'source': './docs/Writing_a_scientific_article__A_step-by-step_guide_for_beginners_.pdf', 'page': 0}, page_content='Research  paper\\nWriting  a  scientiﬁc  article:  A  step-by-step  guide  for  beginners\\nF.  Ecarnot *,  M.-F.  Seronde,  R.  Chopard,  F.  Schiele,  N.  Meneveau\\nEA3920,  Department  of  Cardiology,  University  Hospital  Jean-Minjoz,  3,  Boulevard  Fleming,  25000  Besanc ¸on,  France\\n1.  Background\\nEvery  researcher  has  been  face  to  face  with  a  blank  page  at  some\\nstage  of  their  career,  wondering  where  to  start  and  what  to  write\\nﬁrst.  Describing  one’s  research  work  in  a  format  that  is\\ncomprehensible  to  others,  and  acceptable  for  publication  is  no\\neasy  task.  When  you  invest  a  lot  of  time,  energy  and  often  money  in\\nyour  research,  you  become  intimately  and  emotionally  involved.\\nNaturally,  you  are  convinced  of  the  value  of  your  research,  and  of\\nits  importance  for  the  scientiﬁc  community.  However,  the\\nsubjectivity  that  goes  hand  in  hand  with  deep  involvement  can')"
      ]
     },
     "execution_count": 12,
     "metadata": {},
     "output_type": "execute_result"
    }
   ],
   "source": [
    "docs = text_splitter.split_documents(documents)\n",
    "print(\"Number of mini-documents: \", len(docs))\n",
    "docs[0]"
   ]
  },
  {
   "cell_type": "code",
   "execution_count": 16,
   "metadata": {},
   "outputs": [
    {
     "name": "stdout",
     "output_type": "stream",
     "text": [
      "Number of relevant documents:  4\n",
      "Document(metadata={'page': 4, 'source': './docs/Writing_a_scientific_article__A_step-by-step_guide_for_beginners_.pdf'}, page_content='the  emphasis  of  the  sentence.  The  order  in  which  the  results  or\\nelements  of  discussion  are  mentioned  may  subtly  move  the\\nemphasis  away  from  that  originally  intended  by  the  other  author.\\nHere  again,  careful  re-reading  by  co-authors  and  senior  mentors,  or\\nmembers  of  your  publications  department  (if  you  have  one),  will\\nhelp  to  avoid  these  pitfalls.\\nWhat  are  the  novel  ﬁndings  of  your  study?  Underlining  how\\nyour  ﬁndings  yield  new  evidence  or  a  new  contribution  to  the  state\\nof  knowledge  will  substantiate  the  importance  of  your  paper,  and\\nits  added  value  for  the  literature,  as  opposed  to  being  ‘‘just  another\\npaper’’  on  a  ‘‘worn-out’’  topic.  In  this  regard,  you  can  discuss\\nwhether  or  not  your  paper  has  succeeded  in  ﬁlling  the  ‘‘gap  in\\nknowledge’’  that  you  justiﬁed  in  the  introduction.\\nDo  not  be  afraid  to  write  an  article  reporting  negative  results.  A')\n"
     ]
    }
   ],
   "source": [
    "vector_db = Chroma.from_documents(documents=docs, embedding=embedding)\n",
    "\n",
    "retriever = vector_db.as_retriever()\n",
    "\n",
    "QUERY = \"What are keypoints of this paper?\"\n",
    "result = retriever.invoke(QUERY)\n",
    "\n",
    "print(\"Number of relevant documents: \", len(result))\n",
    "pprint(result[0])"
   ]
  },
  {
   "cell_type": "code",
   "execution_count": null,
   "metadata": {},
   "outputs": [],
   "source": []
  }
 ],
 "metadata": {
  "kernelspec": {
   "display_name": "rag-qa-with-pdf-files",
   "language": "python",
   "name": "python3"
  },
  "language_info": {
   "codemirror_mode": {
    "name": "ipython",
    "version": 3
   },
   "file_extension": ".py",
   "mimetype": "text/x-python",
   "name": "python",
   "nbconvert_exporter": "python",
   "pygments_lexer": "ipython3",
   "version": "3.9.19"
  }
 },
 "nbformat": 4,
 "nbformat_minor": 2
}
