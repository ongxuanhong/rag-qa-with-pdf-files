{
 "cells": [
  {
   "cell_type": "code",
   "execution_count": 8,
   "metadata": {},
   "outputs": [],
   "source": [
    "import torch\n",
    "\n",
    "from transformers import BitsAndBytesConfig\n",
    "from transformers import AutoTokenizer, AutoModelForCausalLM, pipeline\n",
    "from langchain_huggingface import HuggingFaceEmbeddings\n",
    "from langchain_huggingface.llms import HuggingFacePipeline\n",
    "\n",
    "from langchain.memory import ConversationBufferMemory\n",
    "from langchain_community.chat_message_histories import ChatMessageHistory\n",
    "from langchain_community.document_loaders import PyPDFLoader, TextLoader\n",
    "from langchain.chains import ConversationalRetrievalChain\n",
    "\n",
    "from langchain_chroma import Chroma\n",
    "from langchain_text_splitters import RecursiveCharacterTextSplitter\n",
    "from langchain_core.runnables import RunnablePassthrough\n",
    "from langchain_core.output_parsers import StrOutputParser\n",
    "from langchain import hub"
   ]
  },
  {
   "cell_type": "markdown",
   "metadata": {},
   "source": [
    "## Read pdf file"
   ]
  },
  {
   "cell_type": "code",
   "execution_count": 9,
   "metadata": {},
   "outputs": [
    {
     "name": "stdout",
     "output_type": "stream",
     "text": [
      "Number of documents:  7\n"
     ]
    },
    {
     "data": {
      "text/plain": [
       "Document(metadata={'source': './docs/Writing_a_scientific_article__A_step-by-step_guide_for_beginners_.pdf', 'page': 0}, page_content='Research  paper\\nWriting  a  scientiﬁc  article:  A  step-by-step  guide  for  beginners\\nF.  Ecarnot *,  M.-F.  Seronde,  R.  Chopard,  F.  Schiele,  N.  Meneveau\\nEA3920,  Department  of  Cardiology,  University  Hospital  Jean-Minjoz,  3,  Boulevard  Fleming,  25000  Besanc ¸on,  France\\n1.  Background\\nEvery  researcher  has  been  face  to  face  with  a  blank  page  at  some\\nstage  of  their  career,  wondering  where  to  start  and  what  to  write\\nﬁrst.  Describing  one’s  research  work  in  a  format  that  is\\ncomprehensible  to  others,  and  acceptable  for  publication  is  no\\neasy  task.  When  you  invest  a  lot  of  time,  energy  and  often  money  in\\nyour  research,  you  become  intimately  and  emotionally  involved.\\nNaturally,  you  are  convinced  of  the  value  of  your  research,  and  of\\nits  importance  for  the  scientiﬁc  community.  However,  the\\nsubjectivity  that  goes  hand  in  hand  with  deep  involvement  can\\nmake  it  difﬁcult  to  take  a  step  back,  and  think  clearly  about  how\\nbest  to  present  the  research  in  a  clear  and  understandable  fashion,\\nso  that  others  –  likely,  non  experts  in  your  ﬁeld  –  can  also\\nappreciate  the  interest  of  your  ﬁndings.\\nEven  today,  the  old  adage  ‘‘publish  or  perish’’  remains  valid.\\nMany  young  researchers  ﬁnd  themselves  under  pressure  to\\nproduce  scientiﬁc  publications,  in  order  to  enhance  their  career\\nprospects,  or  to  substantiate  requests  for  funding,  or  to  justify\\nprevious  funding  allocations,  or  as  a  requirement  for  university\\nqualiﬁcations  such  as  a  Masters  degree  or  doctoral  thesis.  Yet,\\noften,  young  doctors  do  not  have  much  training,  if  any,  in  the  art  of\\nwriting  a  scientiﬁc  article.  For  clinicians,  in  particular,  the  clinical\\nworkload  can  be  such  that  research  and  scientiﬁc  writing  are  seen\\nto  be  secondary  activities  that  are  not  an  immediate  priority,  and  towhich  only  small  amounts  of  time  can  be  devoted  on  an  irregular\\nbasis.  However,  the  competition  is  already  quite  ﬁerce  amongst  all\\nthe  good  quality  papers  that  are  submitted  to  journals,  and  it  is\\ntherefore  of  paramount  importance  to  get  the  basics  right,  in  order\\nfor  your  paper  to  have  a  chance  of  succeeding.  Don’t  you  think  that\\nyour  work  deserves  to  be  judged  on  its  scientiﬁc  merit,  rather  than\\nbe  rejected  for  poor  quality  writing  and  messy  and  confusing\\npresentation  of  the  data?\\nWith  this  in  mind,  we  present  here  a  step-by-step  guide  to\\nwriting  a  scientiﬁc  article,  which  is  not  speciﬁc  to  the  discipline  of\\ngeriatrics/gerontology,  but  rather,  may  be  applied  to  the  vast\\nmajority  of  medical  disciplines.  We  will  start  by  outlining  the  main\\nsections  of  the  article,  and  will  then  describe  in  greater  detail  the\\nmain  elements  that  should  feature  in  each  section.  Finally,  we  will\\nalso  give  a  few  pointers  for  the  abstract  and  the  title  of  the  article.\\nThis  guide  aims  to  help  young  researchers  with  little  experience  of\\nwriting  to  create  a  good  quality  ﬁrst  draft  of  their  work,  which  can\\nthen  be  circulated  to  their  co-authors  and  senior  mentors  for\\nfurther  reﬁnement,  with  the  ultimate  aim  of  achieving  publication\\nin  a  scientiﬁc  journal.  It  is  undoubtedly  not  exhaustive,  and  many\\nexcellent  resources  can  be  found  in  the  existing  literature  [1–7]\\nand  online  [8].\\n2.  Getting  started:  things  to  do  before  you  write  a  word\\nA  certain  amount  of  preparatory  work  needs  to  be  done  before\\nyou  ever  write  a  word  of  your  article.  This  background  work  should\\ngenerally  already  have  been  accomplished  by  the  time  you  are  at\\nthe  writing  stage,  because  it  also  serves  as  background  to  the\\nresearch  project  you  are  writing  about.  All  the  time  you  invest  in\\npreparing  the  protocol  for  your  project  is  an  advance  on  the  writingEuropean  Geriatric  Medicine  xxx  (2015)  xxx–xxx\\n*Corresponding  author.  Tel.:  +33  381  668  539;  fax:  +33  381  668  582.\\nE-mail  addresses:  ﬁona.ecarnot@univ-fcomte.fr  (F.  Ecarnot),\\nmfseronde@chu-besancon.fr  (M.-F.  Seronde),  rchopard@chu-besancon.fr\\n(R.  Chopard),  francois.schiele@univ-fcomte.fr  (F.  Schiele),\\nnicolas.meneveau@univ-fcomte.fr  (N.  Meneveau).A  R  T  I  C  L  E  I  N  F  O\\nArticle  history:\\nReceived  22  June  2015\\nAccepted  18  August  2015\\nAvailable  online  xxx\\nKeywords:\\nScientiﬁc  publications\\nWritingResearchArticleA  B  S  T  R  A  C  T\\nMany  young  researchers  ﬁnd  it  extremely  difﬁcult  to  write  scientiﬁc  articles,  and  few  receive  speciﬁc\\ntraining  in  the  art  of  presenting  their  research  work  in  written  format.  Yet,  publication  is  often  vital  for\\ncareer  advancement,  to  obtain  funding,  to  obtain  academic  qualiﬁcations,  or  for  all  these  reasons.  We\\ndescribe  here  the  basic  steps  to  follow  in  writing  a  scientiﬁc  article.  We  outline  the  main  sections  that  an\\naverage  article  should  contain;  the  elements  that  should  appear  in  these  sections,  and  some  pointers  for\\nmaking  the  overall  result  attractive  and  acceptable  for  publication.\\n/C223  2015  Elsevier  Masson  SAS  and  European  Union  Geriatric  Medicine  Society.  All  rights  reserved.\\nG  Model\\nEURGER-671;  No.  of  Pages  7\\nPlease  cite  this  article  in  press  as:  Ecarnot  F,  et  al.  Writing  a  scientiﬁc  article:  A  step-by-step  guide  for  beginners.  Eur  Geriatr  Med  (2015),\\nhttp://dx.doi.org/10.1016/j.eurger.2015.08.005Available  online  at\\nScienceDirect\\nwww.sciencedirect.com\\nhttp://dx.doi.org/10.1016/j.eurger.2015.08.005\\n1878-7649/ /C223  2015  Elsevier  Masson  SAS  and  European  Union  Geriatric  Medicine  Society.  All  rights  reserved.')"
      ]
     },
     "execution_count": 9,
     "metadata": {},
     "output_type": "execute_result"
    }
   ],
   "source": [
    "Loader = PyPDFLoader\n",
    "FILE_PATH = (\n",
    "    \"./docs/Writing_a_scientific_article__A_step-by-step_guide_for_beginners_.pdf\"\n",
    ")\n",
    "loader = Loader(FILE_PATH)\n",
    "documents = loader.load()\n",
    "\n",
    "print(\"Number of documents: \", len(documents))\n",
    "documents[0]"
   ]
  },
  {
   "cell_type": "markdown",
   "metadata": {},
   "source": [
    "## Initialize text splitter and split document"
   ]
  },
  {
   "cell_type": "code",
   "execution_count": 10,
   "metadata": {},
   "outputs": [],
   "source": [
    "text_splitter = RecursiveCharacterTextSplitter(chunk_size=1000, chunk_overlap=100)"
   ]
  },
  {
   "cell_type": "code",
   "execution_count": 11,
   "metadata": {},
   "outputs": [
    {
     "name": "stdout",
     "output_type": "stream",
     "text": [
      "Number of mini-documents:  59\n"
     ]
    },
    {
     "data": {
      "text/plain": [
       "Document(metadata={'source': './docs/Writing_a_scientific_article__A_step-by-step_guide_for_beginners_.pdf', 'page': 0}, page_content='Research  paper\\nWriting  a  scientiﬁc  article:  A  step-by-step  guide  for  beginners\\nF.  Ecarnot *,  M.-F.  Seronde,  R.  Chopard,  F.  Schiele,  N.  Meneveau\\nEA3920,  Department  of  Cardiology,  University  Hospital  Jean-Minjoz,  3,  Boulevard  Fleming,  25000  Besanc ¸on,  France\\n1.  Background\\nEvery  researcher  has  been  face  to  face  with  a  blank  page  at  some\\nstage  of  their  career,  wondering  where  to  start  and  what  to  write\\nﬁrst.  Describing  one’s  research  work  in  a  format  that  is\\ncomprehensible  to  others,  and  acceptable  for  publication  is  no\\neasy  task.  When  you  invest  a  lot  of  time,  energy  and  often  money  in\\nyour  research,  you  become  intimately  and  emotionally  involved.\\nNaturally,  you  are  convinced  of  the  value  of  your  research,  and  of\\nits  importance  for  the  scientiﬁc  community.  However,  the\\nsubjectivity  that  goes  hand  in  hand  with  deep  involvement  can')"
      ]
     },
     "execution_count": 11,
     "metadata": {},
     "output_type": "execute_result"
    }
   ],
   "source": [
    "docs = text_splitter.split_documents(documents)\n",
    "\n",
    "print(\"Number of mini-documents: \", len(docs))\n",
    "docs[0]"
   ]
  },
  {
   "cell_type": "markdown",
   "metadata": {},
   "source": [
    "## Initialize text vectorization"
   ]
  },
  {
   "cell_type": "code",
   "execution_count": 12,
   "metadata": {},
   "outputs": [
    {
     "name": "stdout",
     "output_type": "stream",
     "text": [
      "2024-09-11 15:51:31 - Use pytorch device_name: cuda\n",
      "2024-09-11 15:51:31 - Load pretrained SentenceTransformer: sentence-transformers/all-mpnet-base-v2\n"
     ]
    }
   ],
   "source": [
    "embedding = HuggingFaceEmbeddings()"
   ]
  },
  {
   "cell_type": "markdown",
   "metadata": {},
   "source": [
    "## Create vector database and retriever"
   ]
  },
  {
   "cell_type": "code",
   "execution_count": 14,
   "metadata": {},
   "outputs": [
    {
     "name": "stdout",
     "output_type": "stream",
     "text": [
      "Number of relevant documents:  4\n"
     ]
    },
    {
     "data": {
      "text/plain": [
       "Document(metadata={'page': 4, 'source': './docs/Writing_a_scientific_article__A_step-by-step_guide_for_beginners_.pdf'}, page_content='preparation.\\nThere  are  a  few  main  points  to  remember  for  the  preparation  of\\nthe  abstract,  but  space  is  limited,  so  you  must  keep  it  short.  The\\nmain  pointers  for  the  abstract  are  outlined  in  Table  4.  If  you  have\\ngiven  sufﬁcient  time  and  thought  to  preparing  your  project,  and\\nwriting  the  resulting  article,  the  preparation  of  the  abstract  should\\nnot  be  time-consuming.  You  will  easily  ﬁnd  a  sentence  or  two  in\\nthe  introduction  that  can  be  re-used  in  the  abstract  (perhaps  with\\nsome  shortening  necessary).  Similarly,  the  results  will  be  mainly\\ncopy-and-pasted  from  the  results  section  of  the  article.  The\\nconclusion  can  be  formulated  as  the  main  take-home  message  to\\ncome  out  of  your  work.  Indeed,  the  hardest  part  of  the  abstract  is\\noften  shortening  it  sufﬁciently  to  ﬁt  with  the  word  limit  of  your\\ntarget  journal.\\n3.6.  The  title')"
      ]
     },
     "execution_count": 14,
     "metadata": {},
     "output_type": "execute_result"
    }
   ],
   "source": [
    "vector_db = Chroma.from_documents(documents=docs, embedding=embedding)\n",
    "\n",
    "retriever = vector_db.as_retriever()\n",
    "\n",
    "QUERY = \"How to write abstract?\"\n",
    "result = retriever.invoke(QUERY)\n",
    "\n",
    "print(\"Number of relevant documents: \", len(result))\n",
    "result[0]"
   ]
  },
  {
   "cell_type": "markdown",
   "metadata": {},
   "source": [
    "## Load LLMs (Vicuna)"
   ]
  },
  {
   "cell_type": "code",
   "execution_count": 16,
   "metadata": {},
   "outputs": [
    {
     "name": "stderr",
     "output_type": "stream",
     "text": [
      "c:\\Users\\predator\\anaconda3\\envs\\rag-qa-with-pdf-files\\lib\\site-packages\\huggingface_hub\\file_download.py:159: UserWarning: `huggingface_hub` cache-system uses symlinks by default to efficiently store duplicated files but your machine does not support them in C:\\Users\\predator\\.cache\\huggingface\\hub\\models--microsoft--phi-2. Caching files will still work but in a degraded version that might require more space on your disk. This warning can be disabled by setting the `HF_HUB_DISABLE_SYMLINKS_WARNING` environment variable. For more details, see https://huggingface.co/docs/huggingface_hub/how-to-cache#limitations.\n",
      "To support symlinks on Windows, you either need to activate Developer Mode or to run Python as an administrator. In order to see activate developer mode, see this article: https://docs.microsoft.com/en-us/windows/apps/get-started/enable-your-device-for-development\n",
      "  warnings.warn(message)\n",
      "Downloading shards: 100%|██████████| 2/2 [05:53<00:00, 176.98s/it]\n",
      "Loading checkpoint shards: 100%|██████████| 2/2 [00:04<00:00,  2.29s/it]\n"
     ]
    }
   ],
   "source": [
    "nf4_config = BitsAndBytesConfig(\n",
    "    load_in_4bit=True,\n",
    "    bnb_4bit_quant_type=\"nf4\",\n",
    "    bnb_4bit_use_double_quant=True,\n",
    "    bnb_4bit_compute_dtype=torch.bfloat16,\n",
    ")\n",
    "\n",
    "MODEL_NAME = \"microsoft/phi-2\"\n",
    "\n",
    "model = AutoModelForCausalLM.from_pretrained(\n",
    "    MODEL_NAME, quantization_config=nf4_config, low_cpu_mem_usage=True\n",
    ")\n",
    "tokenizer = AutoTokenizer.from_pretrained(MODEL_NAME)\n",
    "\n",
    "model_pipeline = pipeline(\n",
    "    \"text-generation\",\n",
    "    model=model,\n",
    "    tokenizer=tokenizer,\n",
    "    max_new_tokens=512,\n",
    "    pad_token_id=tokenizer.eos_token_id,\n",
    "    device_map=\"auto\",\n",
    ")\n",
    "\n",
    "llm = HuggingFacePipeline(\n",
    "    pipeline=model_pipeline,\n",
    ")"
   ]
  },
  {
   "cell_type": "code",
   "execution_count": 18,
   "metadata": {},
   "outputs": [
    {
     "name": "stdout",
     "output_type": "stream",
     "text": [
      "('Human: You are an assistant for question-answering tasks. Use the following '\n",
      " \"pieces of retrieved context to answer the question. If you don't know the \"\n",
      " \"answer, just say that you don't know. Use three sentences maximum and keep \"\n",
      " 'the answer concise.\\n'\n",
      " 'Question: How to write abstract? \\n'\n",
      " 'Context: preparation.\\n'\n",
      " 'There  are  a  few  main  points  to  remember  for  the  preparation  of\\n'\n",
      " 'the  abstract,  but  space  is  limited,  so  you  must  keep  it  short.  '\n",
      " 'The\\n'\n",
      " 'main  pointers  for  the  abstract  are  outlined  in  Table  4.  If  you  '\n",
      " 'have\\n'\n",
      " 'given  sufﬁcient  time  and  thought  to  preparing  your  project,  and\\n'\n",
      " 'writing  the  resulting  article,  the  preparation  of  the  abstract  '\n",
      " 'should\\n'\n",
      " 'not  be  time-consuming.  You  will  easily  ﬁnd  a  sentence  or  two  in\\n'\n",
      " 'the  introduction  that  can  be  re-used  in  the  abstract  (perhaps  '\n",
      " 'with\\n'\n",
      " 'some  shortening  necessary).  Similarly,  the  results  will  be  mainly\\n'\n",
      " 'copy-and-pasted  from  the  results  section  of  the  article.  The\\n'\n",
      " 'conclusion  can  be  formulated  as  the  main  take-home  message  to\\n'\n",
      " 'come  out  of  your  work.  Indeed,  the  hardest  part  of  the  abstract  '\n",
      " 'is\\n'\n",
      " 'often  shortening  it  sufﬁciently  to  ﬁt  with  the  word  limit  of  '\n",
      " 'your\\n'\n",
      " 'target  journal.\\n'\n",
      " '3.6.  The  title\\n'\n",
      " '\\n'\n",
      " 'preparation.\\n'\n",
      " 'There  are  a  few  main  points  to  remember  for  the  preparation  of\\n'\n",
      " 'the  abstract,  but  space  is  limited,  so  you  must  keep  it  short.  '\n",
      " 'The\\n'\n",
      " 'main  pointers  for  the  abstract  are  outlined  in  Table  4.  If  you  '\n",
      " 'have\\n'\n",
      " 'given  sufﬁcient  time  and  thought  to  preparing  your  project,  and\\n'\n",
      " 'writing  the  resulting  article,  the  preparation  of  the  abstract  '\n",
      " 'should\\n'\n",
      " 'not  be  time-consuming.  You  will  easily  ﬁnd  a  sentence  or  two  in\\n'\n",
      " 'the  introduction  that  can  be  re-used  in  the  abstract  (perhaps  '\n",
      " 'with\\n'\n",
      " 'some  shortening  necessary).  Similarly,  the  results  will  be  mainly\\n'\n",
      " 'copy-and-pasted  from  the  results  section  of  the  article.  The\\n'\n",
      " 'conclusion  can  be  formulated  as  the  main  take-home  message  to\\n'\n",
      " 'come  out  of  your  work.  Indeed,  the  hardest  part  of  the  abstract  '\n",
      " 'is\\n'\n",
      " 'often  shortening  it  sufﬁciently  to  ﬁt  with  the  word  limit  of  '\n",
      " 'your\\n'\n",
      " 'target  journal.\\n'\n",
      " '3.6.  The  title\\n'\n",
      " '\\n'\n",
      " '(usually  background,  methods,  results,  conclusion).  It  is  used  for\\n'\n",
      " 'referencing  purposes  in  online  bibliographic  databases  (such  as\\n'\n",
      " 'PubMed),  and  therefore  should  form  an  independent  unit  that  is\\n'\n",
      " 'comprehensible  as  a  stand-alone  text,  without  the  need  to  refer  '\n",
      " 'tothe  full  text.  It  is  also  usually  the  ﬁrst  item  that  a  '\n",
      " 'potential  reviewer\\n'\n",
      " 'will  see  when  being  invited  to  review  your  paper  for  publication  '\n",
      " 'in\\n'\n",
      " 'a  journal.  Therefore,  it  is  of  paramount  important  that  the  '\n",
      " 'abstract\\n'\n",
      " 'be  succinct,  but  informative  and  attractive,  to  give  the  potential\\n'\n",
      " 'reader  a  foretaste  of  the  main  information,  and  incite  the  desire  '\n",
      " 'to\\n'\n",
      " 'read  the  full  paper.  It  is  the  quintessential  marketing  tool  for  '\n",
      " 'your\\n'\n",
      " 'work,  so  it  is  worth  devoting  some  time  and  special  thought  to  '\n",
      " 'its\\n'\n",
      " 'preparation.\\n'\n",
      " 'There  are  a  few  main  points  to  remember  for  the  preparation  of\\n'\n",
      " '\\n'\n",
      " '(usually  background,  methods,  results,  conclusion).  It  is  used  for\\n'\n",
      " 'referencing  purposes  in  online  bibliographic  databases  (such  as\\n'\n",
      " 'PubMed),  and  therefore  should  form  an  independent  unit  that  is\\n'\n",
      " 'comprehensible  as  a  stand-alone  text,  without  the  need  to  refer  '\n",
      " 'tothe  full  text.  It  is  also  usually  the  ﬁrst  item  that  a  '\n",
      " 'potential  reviewer\\n'\n",
      " 'will  see  when  being  invited  to  review  your  paper  for  publication  '\n",
      " 'in\\n'\n",
      " 'a  journal.  Therefore,  it  is  of  paramount  important  that  the  '\n",
      " 'abstract\\n'\n",
      " 'be  succinct,  but  informative  and  attractive,  to  give  the  potential\\n'\n",
      " 'reader  a  foretaste  of  the  main  information,  and  incite  the  desire  '\n",
      " 'to\\n'\n",
      " 'read  the  full  paper.  It  is  the  quintessential  marketing  tool  for  '\n",
      " 'your\\n'\n",
      " 'work,  so  it  is  worth  devoting  some  time  and  special  thought  to  '\n",
      " 'its\\n'\n",
      " 'preparation.\\n'\n",
      " 'There  are  a  few  main  points  to  remember  for  the  preparation  of \\n'\n",
      " 'Answer:\\n'\n",
      " '\\n'\n",
      " 'preparation.\\n'\n",
      " 'There  are  a  few  main  points  to  remember  for  the  preparation  of\\n'\n",
      " '\\n'\n",
      " '(usually  background,  methods,  results,  conclusion).  It  is  used  for\\n'\n",
      " 'referencing  purposes  in  online  bibliographic  databases  (such  as\\n'\n",
      " 'PubMed),  and  therefore  should  form  an  independent  unit  that  is\\n'\n",
      " 'comprehensible  as  a  stand-alone  text,  without  the  need  to  refer  '\n",
      " 'tothe  full  text.  It  is also usually  the  ﬁrst  item  that  a  '\n",
      " 'potential  reviewer\\n'\n",
      " 'will see  when  being  invited  to  review  your  paper  for  publication  '\n",
      " 'in\\n'\n",
      " 'a  journal.  Therefore,  it  is  of  paramount  important  that  the  '\n",
      " 'abstract\\n'\n",
      " 'be  succinct,  but  informative  and  attractive,  to  give  the  potential\\n'\n",
      " 'reader  a  foretaste  of  the  main  information,  and  incite  the  desire  '\n",
      " 'to\\n'\n",
      " 'read  the  full  paper.  It  is  the  quintessential  marketing  tool  for  '\n",
      " 'your\\n'\n",
      " 'work,  so  it  is  worth  devoting  some  time  and  special  thought  to  '\n",
      " 'its\\n'\n",
      " 'preparation.\\n'\n",
      " '\\n'\n",
      " '3.7.  The  abstract  should  be  written  in  the  same  language  as  the  '\n",
      " 'full  text.\\n'\n",
      " '\\n'\n",
      " 'preparation.\\n'\n",
      " 'There  are  a  few  main  points  to  remember  for  the  preparation  of\\n'\n",
      " '\\n'\n",
      " '(usually  background,  methods,  results,  conclusion).  It  is  used  for\\n'\n",
      " 'referencing  purposes  in  online  bibliographic  databases  (such  as\\n'\n",
      " 'PubMed),  and  therefore  should  form  an  independent  unit  that  is\\n'\n",
      " 'comprehensible  as  a  stand-alone  text,  without  the  need  to  refer  '\n",
      " 'tothe  full  text.  It  is also')\n"
     ]
    }
   ],
   "source": [
    "from pprint import pprint\n",
    "\n",
    "prompt = hub.pull(\"rlm/rag-prompt\")\n",
    "\n",
    "\n",
    "def format_docs(docs):\n",
    "    return \"\\n\\n\".join(doc.page_content for doc in docs)\n",
    "\n",
    "\n",
    "rag_chain = (\n",
    "    {\"context\": retriever | format_docs, \"question\": RunnablePassthrough()}\n",
    "    | prompt\n",
    "    | llm\n",
    "    | StrOutputParser()\n",
    ")\n",
    "\n",
    "USER_QUESTION = \"How to write abstract?\"\n",
    "output = rag_chain.invoke(USER_QUESTION)\n",
    "pprint(output)"
   ]
  },
  {
   "cell_type": "code",
   "execution_count": null,
   "metadata": {},
   "outputs": [],
   "source": []
  }
 ],
 "metadata": {
  "kernelspec": {
   "display_name": "rag-qa-with-pdf-files",
   "language": "python",
   "name": "python3"
  },
  "language_info": {
   "codemirror_mode": {
    "name": "ipython",
    "version": 3
   },
   "file_extension": ".py",
   "mimetype": "text/x-python",
   "name": "python",
   "nbconvert_exporter": "python",
   "pygments_lexer": "ipython3",
   "version": "3.9.19"
  }
 },
 "nbformat": 4,
 "nbformat_minor": 2
}
